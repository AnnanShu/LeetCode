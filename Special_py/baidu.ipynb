{
 "metadata": {
  "language_info": {
   "codemirror_mode": {
    "name": "ipython",
    "version": 3
   },
   "file_extension": ".py",
   "mimetype": "text/x-python",
   "name": "python",
   "nbconvert_exporter": "python",
   "pygments_lexer": "ipython3",
   "version": "3.7.4-final"
  },
  "orig_nbformat": 2,
  "kernelspec": {
   "name": "Python 3.7.4 64-bit (conda)",
   "display_name": "Python 3.7.4 64-bit (conda)",
   "metadata": {
    "interpreter": {
     "hash": "9cf3421bb56ba341ca7db23c856addf66c74316453cdc976737a5231a397b162"
    }
   }
  }
 },
 "nbformat": 4,
 "nbformat_minor": 2,
 "cells": [
  {
   "cell_type": "code",
   "execution_count": 1,
   "metadata": {},
   "outputs": [],
   "source": [
    "# import torch \n",
    "# torch.Tensor([1,2,3])\n",
    "import re \n",
    "import numpy as np \n",
    "import pandas as pd \n",
    "# import torch"
   ]
  },
  {
   "cell_type": "code",
   "execution_count": 2,
   "metadata": {},
   "outputs": [
    {
     "output_type": "execute_result",
     "data": {
      "text/plain": [
       "tensor([1, 2, 3])"
      ]
     },
     "metadata": {},
     "execution_count": 2
    }
   ],
   "source": [
    "torch.tensor([1,2,3])"
   ]
  },
  {
   "cell_type": "code",
   "execution_count": 1,
   "metadata": {},
   "outputs": [
    {
     "output_type": "execute_result",
     "data": {
      "text/plain": [
       "'abcd'"
      ]
     },
     "metadata": {},
     "execution_count": 1
    }
   ],
   "source": [
    "'ABcd'.lower()"
   ]
  },
  {
   "cell_type": "code",
   "execution_count": 1,
   "metadata": {},
   "outputs": [
    {
     "output_type": "execute_result",
     "data": {
      "text/plain": [
       "{'a a a aaaa', 'aa a aaaa'}"
      ]
     },
     "metadata": {},
     "execution_count": 1
    }
   ],
   "source": [
    "set([\"a a a a a a a\",\"aa a a a a a\",\"a aa a a a a\",\"a a aa a a a\",\"aa aa a a a\",\"aaaa a a a\",\"a a a aa a a\",\"aa a aa a a\",\"a aa aa a a\",\"a aaaa a a\",\"a a a a aa a\",\"aa a a aa a\",\"a aa a aa a\",\"a a aa aa a\",\"aa aa aa a\",\"aaaa aa a\",\"a a aaaa a\",\"aa aaaa a\",\"a a a a a aa\",\"aa a a a aa\",\"a aa a a aa\",\"a a aa a aa\",\"aa aa a aa\",\"aaaa a aa\",\"a a a aa aa\",\"aa a aa aa\",\"a aa aa aa\",\"a aaaa aa\",\"a a a aaaa\",\"aa a aaaa\",\"a aa aaaa\"]) - \\\n",
    "    set(\n",
    "[\"aaaa aa a\",\"a aaaa aa\",\"aa a a aa a\",\"aa a aa aa\",\"aa a aa a a\",\"a a a aa aa\",\"aa aa a a a\",\"a a aaaa a\",\"a a a a aa a\",\"a a aa a a a\",\"aa aaaa a\",\"a a a a a aa\",\"a aa aa aa\",\"a aa a aa a\",\"a a a a a a a\",\"a aa a a a a\",\"a a a aa a a\",\"a aa a a aa\",\"a aaaa a a\",\"aaaa a aa\",\"aa a a a aa\",\"a a aa a aa\",\"aa aa a aa\",\"a aa aa a a\",\"a a aa aa a\",\"a aa aaaa\",\"aaaa a a a\",\"aa a a a a a\",\"aa aa aa a\"])"
   ]
  },
  {
   "cell_type": "code",
   "execution_count": 2,
   "metadata": {},
   "outputs": [
    {
     "output_type": "execute_result",
     "data": {
      "text/plain": [
       "8"
      ]
     },
     "metadata": {},
     "execution_count": 2
    }
   ],
   "source": [
    "1 << 3"
   ]
  },
  {
   "cell_type": "code",
   "execution_count": 6,
   "metadata": {},
   "outputs": [
    {
     "output_type": "execute_result",
     "data": {
      "text/plain": [
       "[1, 1, 3, 1, 1, 2, 4, 2, 4, 1, 3, 1]"
      ]
     },
     "metadata": {},
     "execution_count": 6
    }
   ],
   "source": [
    "class Palindrome:\n",
    "    def getLongestPalindrome(self, A, n=0):\n",
    "        # write code here\n",
    "        n = len(A)\n",
    "        if n <= 1: return n\n",
    "        dp = [1] * n\n",
    "        for i in range(1, n):\n",
    "            if A[i] == A[i-1]:\n",
    "                dp[i] = 2\n",
    "            if i >= dp[i-1] + 1 and A[i] == A[i-dp[i-1]-1]:\n",
    "                dp[i] = dp[i-1] + 2\n",
    "        return max(dp)\n",
    "Palindrome().getLongestPalindrome(\"babcaaccabab\")"
   ]
  },
  {
   "cell_type": "code",
   "execution_count": 1,
   "metadata": {},
   "outputs": [],
   "source": [
    "a = ''\n",
    "a += 'a' * 2"
   ]
  },
  {
   "cell_type": "code",
   "execution_count": 2,
   "metadata": {},
   "outputs": [
    {
     "output_type": "execute_result",
     "data": {
      "text/plain": [
       "'aa'"
      ]
     },
     "metadata": {},
     "execution_count": 2
    }
   ],
   "source": [
    "a"
   ]
  },
  {
   "cell_type": "code",
   "execution_count": 3,
   "metadata": {},
   "outputs": [
    {
     "output_type": "execute_result",
     "data": {
      "text/plain": [
       "True"
      ]
     },
     "metadata": {},
     "execution_count": 3
    }
   ],
   "source": [
    "'a' > 'B'"
   ]
  },
  {
   "cell_type": "code",
   "execution_count": 4,
   "metadata": {},
   "outputs": [
    {
     "output_type": "error",
     "ename": "TypeError",
     "evalue": "unsupported operand type(s) for -: 'str' and 'str'",
     "traceback": [
      "\u001b[1;31m---------------------------------------------------------------------------\u001b[0m",
      "\u001b[1;31mTypeError\u001b[0m                                 Traceback (most recent call last)",
      "\u001b[1;32m<ipython-input-4-8bd5e5a284ae>\u001b[0m in \u001b[0;36m<module>\u001b[1;34m\u001b[0m\n\u001b[1;32m----> 1\u001b[1;33m \u001b[1;34m'a'\u001b[0m \u001b[1;33m-\u001b[0m \u001b[1;34m'n'\u001b[0m\u001b[1;33m\u001b[0m\u001b[1;33m\u001b[0m\u001b[0m\n\u001b[0m",
      "\u001b[1;31mTypeError\u001b[0m: unsupported operand type(s) for -: 'str' and 'str'"
     ]
    }
   ],
   "source": []
  },
  {
   "cell_type": "code",
   "execution_count": 1,
   "metadata": {},
   "outputs": [
    {
     "output_type": "execute_result",
     "data": {
      "text/plain": [
       "0"
      ]
     },
     "metadata": {},
     "execution_count": 1
    }
   ],
   "source": [
    "a = 5\n",
    "b = 0\n",
    "a and b"
   ]
  },
  {
   "cell_type": "code",
   "execution_count": 3,
   "metadata": {},
   "outputs": [
    {
     "output_type": "execute_result",
     "data": {
      "text/plain": [
       "5"
      ]
     },
     "metadata": {},
     "execution_count": 3
    }
   ],
   "source": [
    "a = 5\n",
    "b = 1\n",
    "b and a"
   ]
  },
  {
   "cell_type": "code",
   "execution_count": 4,
   "metadata": {},
   "outputs": [
    {
     "output_type": "execute_result",
     "data": {
      "text/plain": [
       "5"
      ]
     },
     "metadata": {},
     "execution_count": 4
    }
   ],
   "source": [
    "a or b"
   ]
  },
  {
   "cell_type": "code",
   "execution_count": 5,
   "metadata": {},
   "outputs": [
    {
     "output_type": "execute_result",
     "data": {
      "text/plain": [
       "1"
      ]
     },
     "metadata": {},
     "execution_count": 5
    }
   ],
   "source": [
    "b or a"
   ]
  },
  {
   "cell_type": "code",
   "execution_count": 20,
   "metadata": {},
   "outputs": [
    {
     "output_type": "execute_result",
     "data": {
      "text/plain": [
       "'/'"
      ]
     },
     "metadata": {},
     "execution_count": 20
    }
   ],
   "source": [
    "chr(int('2F', 16))"
   ]
  },
  {
   "cell_type": "code",
   "execution_count": 21,
   "metadata": {},
   "outputs": [
    {
     "output_type": "execute_result",
     "data": {
      "text/plain": [
       "'0o40'"
      ]
     },
     "metadata": {},
     "execution_count": 21
    }
   ],
   "source": [
    "oct(32)"
   ]
  },
  {
   "cell_type": "code",
   "execution_count": null,
   "metadata": {},
   "outputs": [],
   "source": []
  }
 ]
}