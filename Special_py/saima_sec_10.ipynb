{
 "metadata": {
  "language_info": {
   "codemirror_mode": {
    "name": "ipython",
    "version": 3
   },
   "file_extension": ".py",
   "mimetype": "text/x-python",
   "name": "python",
   "nbconvert_exporter": "python",
   "pygments_lexer": "ipython3",
   "version": "3.7.4-final"
  },
  "orig_nbformat": 2,
  "kernelspec": {
   "name": "Python 3.7.4 64-bit (conda)",
   "display_name": "Python 3.7.4 64-bit (conda)",
   "metadata": {
    "interpreter": {
     "hash": "9cf3421bb56ba341ca7db23c856addf66c74316453cdc976737a5231a397b162"
    }
   }
  }
 },
 "nbformat": 4,
 "nbformat_minor": 2,
 "cells": [
  {
   "cell_type": "code",
   "execution_count": 26,
   "metadata": {},
   "outputs": [
    {
     "output_type": "stream",
     "name": "stdout",
     "text": [
      "ok\n"
     ]
    }
   ],
   "source": [
    "s = \"5432123456788881\"\n",
    "if len(s) != 16: print('error')\n",
    "else: \n",
    "    odd_sum = sum(int(i) for i in s[15::-2])\n",
    "    even_sum = sum(int(i) * 2 if i >= '5' else int(i) * 2 - 9 for i in s[::-2])\n",
    "    print('ok' if (odd_sum + even_sum) % 10 == 0 else 'error')"
   ]
  },
  {
   "cell_type": "code",
   "execution_count": 14,
   "metadata": {},
   "outputs": [
    {
     "output_type": "execute_result",
     "data": {
      "text/plain": [
       "'88753135'"
      ]
     },
     "metadata": {},
     "execution_count": 14
    }
   ],
   "source": [
    "(\"5432123456788881\")[::-1][1::2]"
   ]
  },
  {
   "cell_type": "code",
   "execution_count": 21,
   "metadata": {},
   "outputs": [
    {
     "output_type": "execute_result",
     "data": {
      "text/plain": [
       "'18864224'"
      ]
     },
     "metadata": {},
     "execution_count": 21
    }
   ],
   "source": [
    "(\"5432123456788881\")[::-2]"
   ]
  },
  {
   "cell_type": "code",
   "execution_count": null,
   "metadata": {},
   "outputs": [],
   "source": []
  },
  {
   "cell_type": "code",
   "execution_count": 19,
   "metadata": {},
   "outputs": [
    {
     "output_type": "execute_result",
     "data": {
      "text/plain": [
       "53"
      ]
     },
     "metadata": {},
     "execution_count": 19
    }
   ],
   "source": [
    "sum(int(i) * 2 if i >= '5' else int(i) * 2 - 9 for i in s[14::-2])"
   ]
  },
  {
   "cell_type": "code",
   "execution_count": 27,
   "metadata": {},
   "outputs": [
    {
     "output_type": "execute_result",
     "data": {
      "text/plain": [
       "3"
      ]
     },
     "metadata": {},
     "execution_count": 27
    }
   ],
   "source": [
    "from itertools import "
   ]
  },
  {
   "cell_type": "code",
   "execution_count": null,
   "metadata": {},
   "outputs": [],
   "source": []
  },
  {
   "cell_type": "code",
   "execution_count": 28,
   "metadata": {},
   "outputs": [
    {
     "output_type": "execute_result",
     "data": {
      "text/plain": [
       "0"
      ]
     },
     "metadata": {},
     "execution_count": 28
    }
   ],
   "source": [
    "[\"XOX\", \" X \", \"   \"].count('X')"
   ]
  },
  {
   "cell_type": "code",
   "execution_count": 9,
   "metadata": {},
   "outputs": [
    {
     "output_type": "execute_result",
     "data": {
      "text/plain": [
       "[2, 2, 2, 2]"
      ]
     },
     "metadata": {},
     "execution_count": 9
    }
   ],
   "source": [
    "import collections\n",
    "deck = [1,2,3,4,4,3,2,1]\n",
    "sorted(collections.Counter(deck).values())"
   ]
  },
  {
   "cell_type": "code",
   "execution_count": 2,
   "metadata": {},
   "outputs": [],
   "source": [
    "a, b = 2, 3\n",
    "# a, b += 1, 2"
   ]
  },
  {
   "cell_type": "code",
   "execution_count": 4,
   "metadata": {},
   "outputs": [],
   "source": [
    "a"
   ]
  },
  {
   "cell_type": "code",
   "execution_count": 10,
   "metadata": {},
   "outputs": [
    {
     "output_type": "error",
     "ename": "AttributeError",
     "evalue": "'builtin_function_or_method' object has no attribute 'add'",
     "traceback": [
      "\u001b[1;31m---------------------------------------------------------------------------\u001b[0m",
      "\u001b[1;31mAttributeError\u001b[0m                            Traceback (most recent call last)",
      "\u001b[1;32m<ipython-input-10-b6b1021835a5>\u001b[0m in \u001b[0;36m<module>\u001b[1;34m\u001b[0m\n\u001b[1;32m----> 1\u001b[1;33m \u001b[0mgetattr\u001b[0m\u001b[1;33m(\u001b[0m\u001b[0msum\u001b[0m\u001b[1;33m,\u001b[0m \u001b[1;34m'add'\u001b[0m\u001b[1;33m)\u001b[0m\u001b[1;33m\u001b[0m\u001b[1;33m\u001b[0m\u001b[0m\n\u001b[0m\u001b[0;32m      2\u001b[0m \u001b[1;34m'add'\u001b[0m\u001b[1;33m(\u001b[0m\u001b[1;36m1\u001b[0m\u001b[1;33m,\u001b[0m \u001b[1;36m3\u001b[0m\u001b[1;33m)\u001b[0m\u001b[1;33m\u001b[0m\u001b[1;33m\u001b[0m\u001b[0m\n",
      "\u001b[1;31mAttributeError\u001b[0m: 'builtin_function_or_method' object has no attribute 'add'"
     ]
    }
   ],
   "source": [
    "addattr(sum, 'add')\n",
    "'add'(1, 3)"
   ]
  },
  {
   "cell_type": "code",
   "execution_count": null,
   "metadata": {},
   "outputs": [],
   "source": []
  },
  {
   "cell_type": "code",
   "execution_count": null,
   "metadata": {},
   "outputs": [],
   "source": []
  },
  {
   "cell_type": "code",
   "execution_count": null,
   "metadata": {},
   "outputs": [],
   "source": []
  },
  {
   "cell_type": "code",
   "execution_count": null,
   "metadata": {},
   "outputs": [],
   "source": []
  },
  {
   "cell_type": "code",
   "execution_count": null,
   "metadata": {},
   "outputs": [],
   "source": []
  },
  {
   "cell_type": "code",
   "execution_count": 4,
   "metadata": {},
   "outputs": [
    {
     "output_type": "execute_result",
     "data": {
      "text/plain": [
       "[0, 0, 0, 0, 0, 0, 1, 0, 1, 0]"
      ]
     },
     "metadata": {},
     "execution_count": 4
    }
   ],
   "source": [
    "[10 >> i & 1 for i in range(10)][::-1]"
   ]
  },
  {
   "cell_type": "code",
   "execution_count": 5,
   "metadata": {},
   "outputs": [],
   "source": [
    "# remoce the k-th node in the link list \n",
    "class ListNode:\n",
    "    def __init__(self, x):\n",
    "        self.val = x\n",
    "        self.next = None\n",
    "\n",
    "class Solution:\n",
    "    def removeNthFromEnd(self, head: ListNode, n: int) -> ListNode:\n",
    "        dummy = ListNode(0)\n",
    "        dummy.next = head \n",
    "        p1 = p2 = dummy\n",
    "        for i in range(n+1):\n",
    "            p1 = p1.next\n",
    "        while p1:\n",
    "            p1 = p1.next\n",
    "            p2 = p2.next\n",
    "        p2.next = p2.next.next\n",
    "        return dummy.next"
   ]
  },
  {
   "cell_type": "code",
   "execution_count": 7,
   "metadata": {},
   "outputs": [],
   "source": [
    "scores = [4, 5, 6, 5]\n",
    "ages = [1, 2, 1, 2]\n",
    "ziped = sorted(list(zip(ages, scores)),key=lambda x: (x[0], x[1]))"
   ]
  },
  {
   "cell_type": "code",
   "execution_count": 8,
   "metadata": {},
   "outputs": [
    {
     "output_type": "execute_result",
     "data": {
      "text/plain": [
       "[(1, 4), (1, 6), (2, 5), (2, 5)]"
      ]
     },
     "metadata": {},
     "execution_count": 8
    }
   ],
   "source": [
    "ziped"
   ]
  },
  {
   "cell_type": "code",
   "execution_count": 10,
   "metadata": {},
   "outputs": [
    {
     "output_type": "execute_result",
     "data": {
      "text/plain": [
       "[[5, 4, 5], [1, 2, 6], [7, 4, 6]]"
      ]
     },
     "metadata": {},
     "execution_count": 10
    }
   ],
   "source": [
    "A = [[5,4,5],[1,2,6],[7,4,6]]\n",
    "A = [[-i for i in line] for line in A]"
   ]
  },
  {
   "cell_type": "code",
   "execution_count": 1,
   "metadata": {},
   "outputs": [],
   "source": [
    "import collections"
   ]
  },
  {
   "cell_type": "code",
   "execution_count": 3,
   "metadata": {},
   "outputs": [
    {
     "output_type": "execute_result",
     "data": {
      "text/plain": [
       "[('A', 3), ('B', 3)]"
      ]
     },
     "metadata": {},
     "execution_count": 3
    }
   ],
   "source": [
    "list(collections.Counter([\"A\",\"A\",\"A\",\"B\",\"B\",\"B\"]).items())"
   ]
  },
  {
   "cell_type": "code",
   "execution_count": 5,
   "metadata": {},
   "outputs": [
    {
     "output_type": "stream",
     "name": "stdout",
     "text": [
      "19 96\n"
     ]
    }
   ],
   "source": [
    "str_ = \"2 51 12 95 42 52 76 77 23 81 71 41 2 23 43 4 64 22 71 96 1 87 51 91 67 16 58 11 44 38 63 14 4 69 88 49 92 91 9 15 17 74 21 91 24 78 62 50 82 26 53 18 25 14 94 79 44 11 36 38 44 53 9 34 58 6 50 82 81 50 36 1 6 61 9 47 33 47 84 41 57 48 73 18\"\n",
    "nums = list(map(int, str_.split()))\n",
    "ans, max_num, n = 0, 0, len(nums)\n",
    "for idx, num in enumerate(nums):\n",
    "    if num > max_num:\n",
    "        ans = idx \n",
    "        max_num = num \n",
    "print(ans, max_num)"
   ]
  },
  {
   "cell_type": "code",
   "execution_count": 6,
   "metadata": {},
   "outputs": [
    {
     "output_type": "execute_result",
     "data": {
      "text/plain": [
       "84"
      ]
     },
     "metadata": {},
     "execution_count": 6
    }
   ],
   "source": [
    "len(nums)"
   ]
  },
  {
   "cell_type": "code",
   "execution_count": 8,
   "metadata": {},
   "outputs": [
    {
     "output_type": "execute_result",
     "data": {
      "text/plain": [
       "1"
      ]
     },
     "metadata": {},
     "execution_count": 8
    }
   ],
   "source": [
    "1 ^ 0"
   ]
  },
  {
   "cell_type": "code",
   "execution_count": 9,
   "metadata": {},
   "outputs": [
    {
     "output_type": "execute_result",
     "data": {
      "text/plain": [
       "True"
      ]
     },
     "metadata": {},
     "execution_count": 9
    }
   ],
   "source": [
    "'a' in 'aeiou'"
   ]
  },
  {
   "cell_type": "code",
   "execution_count": 11,
   "metadata": {},
   "outputs": [
    {
     "output_type": "execute_result",
     "data": {
      "text/plain": [
       "['a', 'e', 'i', 'o', 'u', 'u', 'u']"
      ]
     },
     "metadata": {},
     "execution_count": 11
    }
   ],
   "source": [
    "list('aeiouuu')"
   ]
  },
  {
   "cell_type": "code",
   "execution_count": 3,
   "metadata": {},
   "outputs": [
    {
     "output_type": "execute_result",
     "data": {
      "text/plain": [
       "{0: 8, 4: 3, 2: 2, 3: 2, 1: 1}"
      ]
     },
     "metadata": {},
     "execution_count": 3
    }
   ],
   "source": [
    "nums = [8, 1, 2, 2, 3]\n",
    "dict(sorted(zip(range(len(nums)), nums), key = lambda x: x[1], reverse=True))"
   ]
  },
  {
   "cell_type": "code",
   "execution_count": 39,
   "metadata": {},
   "outputs": [],
   "source": [
    "def gene(data_limit):\n",
    "    for i in range(data_limit):\n",
    "        yield i ** 2\n",
    "d1 = gene(5)"
   ]
  },
  {
   "cell_type": "code",
   "execution_count": 46,
   "metadata": {},
   "outputs": [
    {
     "output_type": "error",
     "ename": "StopIteration",
     "evalue": "",
     "traceback": [
      "\u001b[1;31m---------------------------------------------------------------------------\u001b[0m",
      "\u001b[1;31mStopIteration\u001b[0m                             Traceback (most recent call last)",
      "\u001b[1;32m<ipython-input-46-d44cfafc4953>\u001b[0m in \u001b[0;36m<module>\u001b[1;34m\u001b[0m\n\u001b[1;32m----> 1\u001b[1;33m \u001b[0md1\u001b[0m\u001b[1;33m.\u001b[0m\u001b[0m__next__\u001b[0m\u001b[1;33m(\u001b[0m\u001b[1;33m)\u001b[0m\u001b[1;33m\u001b[0m\u001b[1;33m\u001b[0m\u001b[0m\n\u001b[0m",
      "\u001b[1;31mStopIteration\u001b[0m: "
     ]
    }
   ],
   "source": [
    "d1.__next__()"
   ]
  },
  {
   "cell_type": "code",
   "execution_count": 38,
   "metadata": {},
   "outputs": [
    {
     "output_type": "execute_result",
     "data": {
      "text/plain": [
       "400"
      ]
     },
     "metadata": {},
     "execution_count": 38
    }
   ],
   "source": [
    "next(d1)"
   ]
  },
  {
   "cell_type": "code",
   "execution_count": 50,
   "metadata": {},
   "outputs": [],
   "source": [
    "from typing import List\n",
    "import collections"
   ]
  },
  {
   "cell_type": "code",
   "execution_count": 53,
   "metadata": {},
   "outputs": [
    {
     "output_type": "stream",
     "name": "stdout",
     "text": [
      "[[1, 4], [2, 2], [3, 2]]\n[[1, 4], [3, 2], [2, 2]]\n[2, 1, 2, 1, 3, 1, 3, 1]\n"
     ]
    }
   ],
   "source": [
    "class Solution:\n",
    "    def rearrangeBarcodes(self, barcodes: List[int]) -> List[int]:\n",
    "        cnter = [[k, v] for k, v in collections.Counter(barcodes).items()]\n",
    "        # print(cnter)\n",
    "        cnter.sort(key=lambda x: x[1], reverse=True)\n",
    "        print(cnter)\n",
    "        cnter = cnter[::2] + cnter[1::2][::-1]\n",
    "        print(cnter)\n",
    "        i, j = 0, len(cnter) - 1\n",
    "        ans = []\n",
    "        while i < j:\n",
    "            ans.append(cnter[j][0])\n",
    "            ans.append(cnter[i][0])\n",
    "            cnter[j][1] -= 1\n",
    "            cnter[i][1] -= 1\n",
    "            if cnter[i][1] == 0: i += 1\n",
    "            if cnter[j][1] == 0: j -= 1\n",
    "        if i == j:\n",
    "            while cnter[i][1] > 0:\n",
    "                ans.append(cnter[i][0])\n",
    "                cnter[i][1] -= 1\n",
    "        return ans\n",
    "print(Solution().rearrangeBarcodes([1,1,1,1,2,2,3,3]))"
   ]
  },
  {
   "cell_type": "code",
   "execution_count": 65,
   "metadata": {},
   "outputs": [
    {
     "output_type": "stream",
     "name": "stdout",
     "text": [
      "[1, 3, 5, 7, 9, 11, 13, 15, 17, 19]\n[20, 18, 16, 14, 12, 10, 8, 6, 4, 2]\n[20, 18, 16, 14, 12, 10, 8, 6, 4, 2]\n"
     ]
    }
   ],
   "source": [
    "a = [i + 1 for i in range(20)]\n",
    "print(a[::2])\n",
    "print(a[1::2][::-1])\n",
    "print(a[-1:0:-2])"
   ]
  },
  {
   "cell_type": "code",
   "execution_count": 2,
   "metadata": {},
   "outputs": [
    {
     "output_type": "execute_result",
     "data": {
      "text/plain": [
       "[1, 2, 3, 4, 5, 6, 7, 0]"
      ]
     },
     "metadata": {},
     "execution_count": 2
    }
   ],
   "source": [
    "class Solution:\n",
    "    def merge(self , A, m, B, n):\n",
    "        # write code here\n",
    "        idx, i, j = m + n - 1, m - 1, n - 1        \n",
    "        while idx >= 0 and i >= 0 and j >= 0:\n",
    "            if A[i] <= B[j]:\n",
    "                A[idx] = B[j]\n",
    "                j -= 1\n",
    "            else:\n",
    "                A[idx] = A[i]\n",
    "                i -= 1\n",
    "            idx -= 1\n",
    "        A[:idx+1] = A[:i+1] or B[:j+1]\n",
    "        return A\n",
    "A = [1,2,4,6,0,0,0,0]\n",
    "B = [3, 5, 7]\n",
    "Solution().merge(A, 4, B, 3)"
   ]
  },
  {
   "cell_type": "code",
   "execution_count": 15,
   "metadata": {},
   "outputs": [
    {
     "output_type": "stream",
     "name": "stdout",
     "text": [
      "[1, 1, 1, 1, 1, 1, 1, 3, 5, 7, 1, 1]\n"
     ]
    },
    {
     "output_type": "execute_result",
     "data": {
      "text/plain": [
       "7"
      ]
     },
     "metadata": {},
     "execution_count": 15
    }
   ],
   "source": [
    "class Palindrome:\n",
    "    def getLongestPalindrome(self, A, n=0):\n",
    "        # write code here\n",
    "        n = len(A)\n",
    "        if n <= 1: return n\n",
    "        dp = [1] * n\n",
    "        for i in range(1, n):\n",
    "            if A[i] == A[i-1]:\n",
    "                dp[i] = 1 + dp[i-1]\n",
    "            if i >= dp[i-1] + 1 and A[i] == A[i-dp[i-1]-1]:\n",
    "                dp[i] = dp[i-1] + 2\n",
    "        print(dp)\n",
    "        return max(dp)\n",
    "Palindrome().getLongestPalindrome(\"abc1234321ab\", 12)"
   ]
  },
  {
   "cell_type": "code",
   "execution_count": 17,
   "metadata": {},
   "outputs": [
    {
     "output_type": "stream",
     "name": "stdout",
     "text": [
      "[1, 1, 3, 1, 1, 2, 4, 5, 1, 1, 3, 1]\n"
     ]
    },
    {
     "output_type": "execute_result",
     "data": {
      "text/plain": [
       "5"
      ]
     },
     "metadata": {},
     "execution_count": 17
    }
   ],
   "source": [
    "Palindrome().getLongestPalindrome(\"babcaaccabab\", 7)"
   ]
  },
  {
   "cell_type": "code",
   "execution_count": null,
   "metadata": {},
   "outputs": [],
   "source": []
  }
 ]
}