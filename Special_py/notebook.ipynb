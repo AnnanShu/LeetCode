{
 "metadata": {
  "language_info": {
   "codemirror_mode": {
    "name": "ipython",
    "version": 3
   },
   "file_extension": ".py",
   "mimetype": "text/x-python",
   "name": "python",
   "nbconvert_exporter": "python",
   "pygments_lexer": "ipython3",
   "version": "3.7.4-final"
  },
  "orig_nbformat": 2,
  "kernelspec": {
   "name": "python37464bitannanvirtualenvabb1fad61c7949bf8334aac82cdbdfcd",
   "display_name": "Python 3.7.4 64-bit ('Annan': virtualenv)"
  }
 },
 "nbformat": 4,
 "nbformat_minor": 2,
 "cells": [
  {
   "cell_type": "code",
   "execution_count": 20,
   "metadata": {},
   "outputs": [],
   "source": [
    "class Solution:\n",
    "    def licenseKeyFormatting(self, S: str, K: int) -> str:\n",
    "        S = S.replace(\"-\",'').upper()\n",
    "        remainings = len(S) % K\n",
    "        print(S[:remainings])\n",
    "        return S[:remainings] + '-'.join(S[i:i+K] for i in range(remainings, len(S), K)) "
   ]
  },
  {
   "cell_type": "code",
   "execution_count": 9,
   "metadata": {},
   "outputs": [],
   "source": [
    "S = \"5F3Z-2e-9-w\"\n",
    "K = 4\n",
    "remainings = len(S) & K"
   ]
  },
  {
   "cell_type": "code",
   "execution_count": 13,
   "metadata": {},
   "outputs": [],
   "source": [
    "S = S.replace(\"-\",'').upper()"
   ]
  },
  {
   "cell_type": "code",
   "execution_count": 15,
   "metadata": {},
   "outputs": [
    {
     "output_type": "execute_result",
     "data": {
      "text/plain": "[]"
     },
     "metadata": {},
     "execution_count": 15
    }
   ],
   "source": [
    "[S[i:i+K] for i in range(remainings, , K)]"
   ]
  },
  {
   "cell_type": "code",
   "execution_count": 21,
   "metadata": {
    "tags": []
   },
   "outputs": [
    {
     "output_type": "stream",
     "name": "stdout",
     "text": "2\n"
    },
    {
     "output_type": "execute_result",
     "data": {
      "text/plain": "'25G-3J'"
     },
     "metadata": {},
     "execution_count": 21
    }
   ],
   "source": [
    "S =\"2-5g-3-J\"\n",
    "Solution().licenseKeyFormatting(S, 2)"
   ]
  },
  {
   "cell_type": "code",
   "execution_count": 1,
   "metadata": {},
   "outputs": [
    {
     "output_type": "execute_result",
     "data": {
      "text/plain": "float"
     },
     "metadata": {},
     "execution_count": 1
    }
   ],
   "source": [
    "type(1e5)"
   ]
  },
  {
   "cell_type": "code",
   "execution_count": 2,
   "metadata": {},
   "outputs": [
    {
     "output_type": "execute_result",
     "data": {
      "text/plain": "100000.0"
     },
     "metadata": {},
     "execution_count": 2
    }
   ],
   "source": [
    "1e5"
   ]
  },
  {
   "cell_type": "code",
   "execution_count": 5,
   "metadata": {},
   "outputs": [
    {
     "output_type": "execute_result",
     "data": {
      "text/plain": "8"
     },
     "metadata": {},
     "execution_count": 5
    }
   ],
   "source": [
    "len(str(1e5))"
   ]
  },
  {
   "cell_type": "code",
   "execution_count": 7,
   "metadata": {},
   "outputs": [
    {
     "output_type": "execute_result",
     "data": {
      "text/plain": "[3, 4, 5]"
     },
     "metadata": {},
     "execution_count": 7
    }
   ],
   "source": [
    "sorted(set([3, 4, 4, 5]))"
   ]
  },
  {
   "cell_type": "code",
   "execution_count": 10,
   "metadata": {},
   "outputs": [],
   "source": [
    "from functools import reduce"
   ]
  },
  {
   "cell_type": "code",
   "execution_count": 16,
   "metadata": {},
   "outputs": [
    {
     "output_type": "execute_result",
     "data": {
      "text/plain": "12345"
     },
     "metadata": {},
     "execution_count": 16
    }
   ],
   "source": [
    "reduce(lambda x, y: 10 * x + y, [1, 2, 3, 4, 5])"
   ]
  },
  {
   "cell_type": "code",
   "execution_count": 19,
   "metadata": {},
   "outputs": [
    {
     "output_type": "execute_result",
     "data": {
      "text/plain": "tensor([[ 3.3706,  0.1894, -0.6623, -2.6210],\n        [ 1.3126, -2.1105,  4.6997, -5.2269],\n        [ 1.0074, -1.0414,  2.7794, -2.2041]])"
     },
     "metadata": {},
     "execution_count": 19
    }
   ],
   "source": [
    "import torch \n",
    "a1 = torch.randn((3, 5))\n",
    "a2 = torch.randn((5, 4))\n",
    "\n",
    "torch.matmul(a1, a2)"
   ]
  },
  {
   "cell_type": "code",
   "execution_count": 20,
   "metadata": {},
   "outputs": [
    {
     "output_type": "execute_result",
     "data": {
      "text/plain": "tensor([[ 3.3706,  0.1894, -0.6623, -2.6210],\n        [ 1.3126, -2.1105,  4.6997, -5.2269],\n        [ 1.0074, -1.0414,  2.7794, -2.2041]])"
     },
     "metadata": {},
     "execution_count": 20
    }
   ],
   "source": [
    "torch.mm(a1, a2)"
   ]
  },
  {
   "cell_type": "code",
   "execution_count": 1,
   "metadata": {
    "tags": []
   },
   "outputs": [
    {
     "output_type": "stream",
     "name": "stdout",
     "text": "x=3, y=5, x=7\n"
    }
   ],
   "source": [
    "x, y, z = 5, 3, 7 \n",
    "x, y, z = sorted([x, y, z])\n",
    "print(f\"x={x}, y={y}, x={z}\")"
   ]
  },
  {
   "cell_type": "code",
   "execution_count": 11,
   "metadata": {},
   "outputs": [
    {
     "output_type": "execute_result",
     "data": {
      "text/plain": "71"
     },
     "metadata": {},
     "execution_count": 11
    }
   ],
   "source": [
    "s = \"0,0,5,13,9,1,0,0,0,0,13,15,10,15,5,0,0,3,15,2,0,11,8,0,0,4,12,0,0,8,8,0,0,5,8,0,0,9,8, 0,0,4,11,0,1,12,7,0,0,2,14,5,10,12,0,0,0,0,6,13,10,0,0,0,0, a, b, c, d, edf, ef\"\n",
    "len(s.split(','))"
   ]
  },
  {
   "cell_type": "code",
   "execution_count": 5,
   "metadata": {},
   "outputs": [],
   "source": [
    "import re "
   ]
  },
  {
   "cell_type": "code",
   "execution_count": 16,
   "metadata": {},
   "outputs": [
    {
     "output_type": "execute_result",
     "data": {
      "text/plain": "65"
     },
     "metadata": {},
     "execution_count": 16
    }
   ],
   "source": [
    "len(re.findall('\\d+', s))"
   ]
  },
  {
   "cell_type": "code",
   "execution_count": 17,
   "metadata": {},
   "outputs": [
    {
     "output_type": "execute_result",
     "data": {
      "text/plain": "71"
     },
     "metadata": {},
     "execution_count": 17
    }
   ],
   "source": [
    "len(re.findall('[\\d\\w]+', s))"
   ]
  },
  {
   "cell_type": "code",
   "execution_count": 20,
   "metadata": {
    "tags": []
   },
   "outputs": [
    {
     "output_type": "stream",
     "name": "stderr",
     "text": "100%|██████████| 300/300 [00:03<00:00, 90.43it/s]\n0123456789101112131415161718192021222324252627282930313233343536373839404142434445464748495051525354555657585960616263646566676869707172737475767778798081828384858687888990919293949596979899100101102103104105106107108109110111112113114115116117118119120121122123124125126127128129130131132133134135136137138139140141142143144145146147148149150151152153154155156157158159160161162163164165166167168169170171172173174175176177178179180181182183184185186187188189190191192193194195196197198199200201202203204205206207208209210211212213214215216217218219220221222223224225226227228229230231232233234235236237238239240241242243244245246247248249250251252253254255256257258259260261262263264265266267268269270271272273274275276277278279280281282283284285286287288289290291292293294295296297298299\n"
    }
   ],
   "source": [
    "from tqdm import tqdm\n",
    "import time\n",
    "\n",
    "text = \"\"\n",
    "for char in tqdm([str(i) for i in range(300)]):\n",
    "    time.sleep(0.01)\n",
    "    text = text + char\n",
    "    \n",
    "print(text)"
   ]
  },
  {
   "cell_type": "code",
   "execution_count": 1,
   "metadata": {},
   "outputs": [
    {
     "output_type": "execute_result",
     "data": {
      "text/plain": "533"
     },
     "metadata": {},
     "execution_count": 1
    }
   ],
   "source": [
    "cnt = 0\n",
    "for i in range(1, 1000):\n",
    "    if i % 3 != 0 and i % 5 != 0:\n",
    "        cnt += 1\n",
    "cnt"
   ]
  },
  {
   "cell_type": "code",
   "execution_count": 4,
   "metadata": {},
   "outputs": [
    {
     "output_type": "execute_result",
     "data": {
      "text/plain": "508032"
     },
     "metadata": {},
     "execution_count": 4
    }
   ],
   "source": [
    "63 * 63 * 16 * 2 * 2 * 2"
   ]
  },
  {
   "cell_type": "code",
   "execution_count": 2,
   "metadata": {},
   "outputs": [
    {
     "output_type": "execute_result",
     "data": {
      "text/plain": "True"
     },
     "metadata": {},
     "execution_count": 2
    }
   ],
   "source": [
    "'\"123\"'.startswith('\"')"
   ]
  },
  {
   "cell_type": "code",
   "execution_count": 3,
   "metadata": {},
   "outputs": [
    {
     "output_type": "execute_result",
     "data": {
      "text/plain": "True"
     },
     "metadata": {},
     "execution_count": 3
    }
   ],
   "source": [
    "the_str = '\"123'\n",
    "not the_str.startswith('\"') or not the_str.endswith('\"')"
   ]
  },
  {
   "cell_type": "code",
   "execution_count": 4,
   "metadata": {},
   "outputs": [
    {
     "output_type": "execute_result",
     "data": {
      "text/plain": "[]"
     },
     "metadata": {},
     "execution_count": 4
    }
   ],
   "source": [
    "[1, 2][2:]"
   ]
  },
  {
   "cell_type": "code",
   "execution_count": 12,
   "metadata": {},
   "outputs": [],
   "source": [
    "import torch\n",
    "import torch.nn as nn \n",
    "import torch.nn.functional as F  "
   ]
  },
  {
   "cell_type": "code",
   "execution_count": 15,
   "metadata": {},
   "outputs": [],
   "source": [
    "conv1 = nn.Conv2d(1, 20, 5, 1)\n",
    "conv2 = nn.Conv2d(20, 50, 5, 1)"
   ]
  },
  {
   "cell_type": "code",
   "execution_count": 24,
   "metadata": {},
   "outputs": [],
   "source": [
    "a = torch.randn((32, 1, 28, 28))"
   ]
  },
  {
   "cell_type": "code",
   "execution_count": 32,
   "metadata": {},
   "outputs": [
    {
     "output_type": "execute_result",
     "data": {
      "text/plain": [
       "torch.Size([32, 20, 12, 12])"
      ]
     },
     "metadata": {},
     "execution_count": 32
    }
   ],
   "source": [
    "a = torch.randn((32, 1, 28, 28))\n",
    "a = conv1(a)\n",
    "a = F.max_pool2d(a, 2, 2)\n",
    "a.size()"
   ]
  },
  {
   "cell_type": "code",
   "execution_count": 26,
   "metadata": {},
   "outputs": [
    {
     "output_type": "execute_result",
     "data": {
      "text/plain": [
       "torch.Size([32, 20, 8, 8])"
      ]
     },
     "metadata": {},
     "execution_count": 26
    }
   ],
   "source": [
    "a = F.max_pool2d(a, 2, 3)\n",
    "a.size()"
   ]
  },
  {
   "cell_type": "code",
   "execution_count": 18,
   "metadata": {},
   "outputs": [
    {
     "output_type": "execute_result",
     "data": {
      "text/plain": [
       "torch.Size([32, 20, 12, 12])"
      ]
     },
     "metadata": {},
     "execution_count": 18
    }
   ],
   "source": [
    "a = F.max_pool2d(a, 2, 2)\n",
    "a.size()"
   ]
  },
  {
   "cell_type": "code",
   "execution_count": null,
   "metadata": {},
   "outputs": [],
   "source": []
  },
  {
   "cell_type": "code",
   "execution_count": 19,
   "metadata": {},
   "outputs": [
    {
     "output_type": "execute_result",
     "data": {
      "text/plain": [
       "torch.Size([32, 50, 8, 8])"
      ]
     },
     "metadata": {},
     "execution_count": 19
    }
   ],
   "source": [
    "a = conv2(a)\n",
    "a.size()"
   ]
  },
  {
   "cell_type": "code",
   "execution_count": 20,
   "metadata": {},
   "outputs": [
    {
     "output_type": "execute_result",
     "data": {
      "text/plain": [
       "torch.Size([32, 50, 4, 4])"
      ]
     },
     "metadata": {},
     "execution_count": 20
    }
   ],
   "source": [
    "a = F.max_pool2d(a, 2, 2)\n",
    "a.size()"
   ]
  },
  {
   "cell_type": "code",
   "execution_count": 34,
   "metadata": {},
   "outputs": [
    {
     "output_type": "stream",
     "name": "stdout",
     "text": [
      "1 [2, 3, 4, 5, 6]\n"
     ]
    }
   ],
   "source": [
    "a, *b = [1,2,3,4,5,6]\n",
    "print(a, b)"
   ]
  },
  {
   "cell_type": "code",
   "execution_count": 43,
   "metadata": {},
   "outputs": [
    {
     "output_type": "execute_result",
     "data": {
      "text/plain": [
       "[1, 3, 4, 5, 6]"
      ]
     },
     "metadata": {},
     "execution_count": 43
    }
   ],
   "source": [
    "a = [1,2,3,4,5,6]\n",
    "a.pop(1)\n",
    "a"
   ]
  },
  {
   "cell_type": "code",
   "execution_count": 37,
   "metadata": {},
   "outputs": [
    {
     "output_type": "stream",
     "name": "stdout",
     "text": [
      "[inf, 1, 2, 3, 1, 2, 3, 1, 2, 3, 4, 1, inf]\n"
     ]
    }
   ],
   "source": [
    "from functools import lru_cache\n",
    "nums = list(map(int, \"10 60 76 66 76 85 55 61 71 84 62\".split()))\n",
    "nums = [101] + nums + [101]\n",
    "n = len(nums)\n",
    "memo = [0] * n\n",
    "memo[0], memo[-1] = float('inf'), float('inf')\n",
    "\n",
    "@lru_cache(None)\n",
    "def dp(i):\n",
    "    if memo[i]: return memo[i]\n",
    "    if nums[i] <= nums[i-1] and nums[i] <= nums[i+1]:\n",
    "        memo[i] = 1\n",
    "        return memo[i]\n",
    "    if nums[i] > nums[i-1] and nums[i] > nums[i+1]:\n",
    "        memo[i] = max(dp(i-1), dp(i+1)) + 1\n",
    "        return memo[i]\n",
    "    memo[i] = dp(i-1) + 1 if nums[i] > nums[i-1] else dp(i+1) + 1\n",
    "    return memo[i]\n",
    "for i in range(1, n-1):\n",
    "    dp(i)\n",
    "print(memo)\n",
    "# print(sum(dp(i) for i in range(1, n-1)))"
   ]
  },
  {
   "cell_type": "code",
   "execution_count": null,
   "metadata": {},
   "outputs": [],
   "source": [
    "import sys \n",
    "nums = list(map(int, sys.stdin.readline().strip().split()))\n",
    "target = int(sys.stdin.readline().strip())\n",
    "epsilon = 0.001\n",
    "def dfs(path):\n",
    "    if len(path) == 1:\n",
    "        if abs(path[0] - target) < epsilon:\n",
    "            return True \n",
    "        else:\n",
    "            return False \n",
    "    else:\n",
    "        ans = False \n",
    "        n = len(path)\n",
    "        for i in range(n):\n",
    "            for j in range(n):\n",
    "                if i != j:\n",
    "                    cur = []\n",
    "                    for the_i in range(n):\n",
    "                        if the_i != i and the_i != j:\n",
    "                            cur.append(path[the_i])\n",
    "                    for operator in [1, 2, 3, 4]:\n",
    "                        if operator == 1:\n",
    "                            cur.append(path[i] + path[j])\n",
    "                            ans |= dfs(cur)\n",
    "                            cur.pop()\n",
    "                        elif operator == 2:\n",
    "                            cur.append(path[i] - path[j])\n",
    "                            ans |= dfs(cur)\n",
    "                            cur.pop()\n",
    "                        elif operator == 3:\n",
    "                            cur.append(path[i] * path[j])\n",
    "                            ans |= dfs(cur)\n",
    "                            cur.pop()\n",
    "                        else:\n",
    "                            if path[j] != 0:\n",
    "                                cur.append(path[i] / path[j])\n",
    "                                ans |= dfs(cur)\n",
    "                                cur.pop()\n",
    "\n",
    "        return ans\n",
    "print(1 if dfs(nums) else 0) "
   ]
  },
  {
   "cell_type": "code",
   "execution_count": 39,
   "metadata": {},
   "outputs": [
    {
     "output_type": "execute_result",
     "data": {
      "text/plain": [
       "[1, 2, 3, 1, 2, 3, 1, 2, 3, 4, 1]"
      ]
     },
     "metadata": {},
     "execution_count": 39
    }
   ],
   "source": [
    "[dp(i) for i in range(1, n-1)]"
   ]
  },
  {
   "cell_type": "code",
   "execution_count": 40,
   "metadata": {},
   "outputs": [
    {
     "output_type": "execute_result",
     "data": {
      "text/plain": [
       "True"
      ]
     },
     "metadata": {},
     "execution_count": 40
    }
   ],
   "source": [
    "32.00 ==32"
   ]
  },
  {
   "cell_type": "code",
   "execution_count": 9,
   "metadata": {},
   "outputs": [
    {
     "output_type": "stream",
     "name": "stdout",
     "text": [
      "29\n"
     ]
    }
   ],
   "source": [
    "import sys\n",
    "from collections import defaultdict \n",
    "S = \"riifeubjyjsafuxrnqjrszvbyzlpzdoyverwtaeyguaewubjhjpnqixsxueslutvmibytsrjgkabrwwkymovblagcfvxewyrbmtktpowaryrprffzyocujvndxaijhel\"\n",
    "cnter = defaultdict(int)\n",
    "prev = None \n",
    "cnt = 0\n",
    "for c in S:\n",
    "    if c == prev:\n",
    "        cnt += 1\n",
    "    else:\n",
    "        cnter[prev] = max(cnter[prev], cnt)\n",
    "        cnt = 1\n",
    "        prev = c \n",
    "print(sum(cnter.values()))"
   ]
  },
  {
   "cell_type": "code",
   "execution_count": 10,
   "metadata": {},
   "outputs": [],
   "source": [
    "map_dict = {'<':'&lt;', '>':'&gt;', '&':'&amp;', '\"':'&quote;', ' ':'&nbsp;'}\n"
   ]
  },
  {
   "cell_type": "code",
   "execution_count": 11,
   "metadata": {},
   "outputs": [
    {
     "output_type": "execute_result",
     "data": {
      "text/plain": [
       "'&nbsp;'"
      ]
     },
     "metadata": {},
     "execution_count": 11
    }
   ],
   "source": [
    "map_dict[' ']"
   ]
  },
  {
   "cell_type": "code",
   "execution_count": 15,
   "metadata": {},
   "outputs": [
    {
     "output_type": "stream",
     "name": "stdout",
     "text": [
      "&lt;div&gt;&lt;/div&gt;&nbsp;Mike:Hi&nbsp;&nbsp;&nbsp;I&nbsp;am&nbsp;here\n"
     ]
    }
   ],
   "source": [
    "S = \"<div></div> Mike:Hi   I am here\"\n",
    "map_dict = {'<':'&lt;', '>':'&gt;', '&':'&amp;', '\"':'&quote;', ' ':'&nbsp;'}\n",
    "print(''.join(list(map(lambda x: map_dict[x] if x in map_dict else x, S))))"
   ]
  },
  {
   "cell_type": "code",
   "execution_count": null,
   "metadata": {},
   "outputs": [],
   "source": []
  }
 ]
}