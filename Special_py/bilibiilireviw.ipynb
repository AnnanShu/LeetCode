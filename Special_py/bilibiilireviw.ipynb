{
 "metadata": {
  "language_info": {
   "codemirror_mode": {
    "name": "ipython",
    "version": 3
   },
   "file_extension": ".py",
   "mimetype": "text/x-python",
   "name": "python",
   "nbconvert_exporter": "python",
   "pygments_lexer": "ipython3",
   "version": "3.7.4-final"
  },
  "orig_nbformat": 2,
  "kernelspec": {
   "name": "python37464bitannanvirtualenvabb1fad61c7949bf8334aac82cdbdfcd",
   "display_name": "Python 3.7.4 64-bit ('Annan': virtualenv)"
  }
 },
 "nbformat": 4,
 "nbformat_minor": 2,
 "cells": [
  {
   "cell_type": "code",
   "execution_count": null,
   "metadata": {},
   "outputs": [],
   "source": [
    "## 1\n"
   ]
  },
  {
   "cell_type": "code",
   "execution_count": 38,
   "metadata": {
    "tags": []
   },
   "outputs": [
    {
     "output_type": "stream",
     "name": "stdout",
     "text": "[] 0\n[2] 1\n[2, 2] 3\n[2, 2, 2] 7\n[2, 2, 2, 2] 15\n[2, 2, 2, 3] 16\n[2, 2, 3] 8\n[2, 2, 3, 2] 17\n[2, 2, 3, 3] 18\n[2, 3] 4\n[2, 3, 2] 9\n[2, 3, 2, 2] 19\n[2, 3, 2, 3] 20\n[2, 3, 3] 10\nTrue\n[[2, 3, 3]]\n[3] 2\n[3, 2] 5\n[3, 2, 2] 11\n[3, 2, 3] 12\n[3, 3] 6\n[3, 3, 2] 13\n[3, 3, 3] 14\n"
    },
    {
     "output_type": "execute_result",
     "data": {
      "text/plain": "[[]]"
     },
     "metadata": {},
     "execution_count": 38
    }
   ],
   "source": [
    "class Solution:\n",
    "    def answer(self, n):\n",
    "        res = list()\n",
    "        def dfs(path, current):\n",
    "            # print(path, current)\n",
    "            if current > n:\n",
    "                return\n",
    "            if current == n:\n",
    "                res.append(path[:])\n",
    "            else:\n",
    "                for way in [2, 3]:\n",
    "                    if way == 2:\n",
    "                        path.append(2)\n",
    "                        dfs(path, 2 * current + 1)\n",
    "                    else:\n",
    "                        path.append(3)\n",
    "                        dfs(path, 2 * current + 2)\n",
    "                    path.pop()\n",
    "\n",
    "        dfs([], 0)\n",
    "        res = sorted(res, key = lambda x: len(x))\n",
    "        return ''.join([str(each) for each in res[0]])\n",
    "\n",
    "Solution().answer(10)"
   ]
  },
  {
   "cell_type": "code",
   "execution_count": 11,
   "metadata": {},
   "outputs": [
    {
     "output_type": "execute_result",
     "data": {
      "text/plain": "[]"
     },
     "metadata": {},
     "execution_count": 11
    }
   ],
   "source": [
    "res"
   ]
  },
  {
   "cell_type": "code",
   "execution_count": null,
   "metadata": {},
   "outputs": [],
   "source": [
    "res = list()\n",
    "def dfs(path, current):\n",
    "    if current == n:\n",
    "        res.append(path[:])\n",
    "    elif current < n:\n",
    "        for way in [2, 3]:\n",
    "            if way == 2:\n",
    "                path.append(2)\n",
    "                dfs(path, 2 * current + 1)\n",
    "            else:\n",
    "                path.append(3)\n",
    "                dfs(path, 2 * current + 2)\n",
    "            path.pop()\n",
    "\n",
    "dfs([], 0)\n",
    "res = sorted(res, key = lambda x: len(x))\n",
    "return ''.join([str(each) for each in res[0]])"
   ]
  },
  {
   "cell_type": "code",
   "execution_count": 40,
   "metadata": {},
   "outputs": [
    {
     "output_type": "execute_result",
     "data": {
      "text/plain": "['7+3*4*5+2+4-3-1']"
     },
     "metadata": {},
     "execution_count": 40
    }
   ],
   "source": [
    "\"7+3*4*5+2+4-3-1\".split('[+-*/]')"
   ]
  },
  {
   "cell_type": "code",
   "execution_count": null,
   "metadata": {},
   "outputs": [],
   "source": []
  }
 ]
}