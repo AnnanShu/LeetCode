{
 "metadata": {
  "language_info": {
   "codemirror_mode": {
    "name": "ipython",
    "version": 3
   },
   "file_extension": ".py",
   "mimetype": "text/x-python",
   "name": "python",
   "nbconvert_exporter": "python",
   "pygments_lexer": "ipython3",
   "version": "3.7.4-final"
  },
  "orig_nbformat": 2,
  "kernelspec": {
   "name": "Python 3.7.4 64-bit ('base': conda)",
   "display_name": "Python 3.7.4 64-bit ('base': conda)",
   "metadata": {
    "interpreter": {
     "hash": "9cf3421bb56ba341ca7db23c856addf66c74316453cdc976737a5231a397b162"
    }
   }
  }
 },
 "nbformat": 4,
 "nbformat_minor": 2,
 "cells": [
  {
   "cell_type": "code",
   "execution_count": 2,
   "metadata": {
    "tags": []
   },
   "outputs": [
    {
     "output_type": "stream",
     "name": "stdout",
     "text": "3\n"
    }
   ],
   "source": [
    "import sys, collections\n",
    "s = \"abcabcbb\"\n",
    "n = len(s)\n",
    "cntr = collections.defaultdict(int)\n",
    "ans = 0\n",
    "dul_set = set()\n",
    "l, r = 0, 0\n",
    "while r < n:\n",
    "    if not dul_set:\n",
    "        cntr[s[r]] += 1\n",
    "        if cntr[s[r]] > 1:\n",
    "            dul_set.add(s[r])\n",
    "        else:\n",
    "            ans = max(ans, r - l + 1)\n",
    "            r += 1\n",
    "            continue \n",
    "    while dul_set:\n",
    "        cntr[s[l]] -= 1\n",
    "        if cntr[s[l]] < 2 and s[l] in dul_set:\n",
    "            dul_set.remove(s[l])\n",
    "        l += 1\n",
    "\n",
    "    r += 1\n",
    "print(ans)"
   ]
  },
  {
   "cell_type": "code",
   "execution_count": 16,
   "metadata": {},
   "outputs": [
    {
     "output_type": "execute_result",
     "data": {
      "text/plain": "True"
     },
     "metadata": {},
     "execution_count": 16
    }
   ],
   "source": [
    "1.0 % 1 == 0"
   ]
  },
  {
   "cell_type": "code",
   "execution_count": 39,
   "metadata": {
    "tags": []
   },
   "outputs": [
    {
     "output_type": "stream",
     "name": "stdout",
     "text": "85\n1 85\n[&#39;X&#39;, &#39;7&#39;, &#39;8&#39;, &#39;-100&#39;]\n"
    }
   ],
   "source": [
    "expr = \"X+7+8=100\"\n",
    "left, right = expr.split('=')\n",
    "n = len(right)\n",
    "for i in range(n):\n",
    "    if right[i] == '+':\n",
    "        right[i] == '-'\n",
    "    if right[i] == '-':\n",
    "        right[i] == '+'\n",
    "if right[0] == '-':\n",
    "    right[0] = '+'\n",
    "else:\n",
    "    right = '-' + right\n",
    "split_expr = left + right\n",
    "split_expr = split_expr.replace('-', '+-')\n",
    "split_expr = split_expr.split('+')\n",
    "right_int = -sum(list(map(int, [each for each in split_expr if each.replace('-','').isdigit()])))\n",
    "def get_coefficient(x):\n",
    "    if x.replace('-','').isdigit(): return 0\n",
    "    else:\n",
    "        x = x.replace('*', '').replace('X','').strip()\n",
    "        if not x: return 1\n",
    "        else: return int(x)\n",
    "left_coefficient = sum(list(map(get_coefficient, split_expr)))\n",
    "if left_coefficient != 0:\n",
    "    ans = right_int / left_coefficient\n",
    "    if ans > 0 and ans % 1 == 0:\n",
    "        print(int(ans))\n",
    "    else:\n",
    "        print(-1)\n",
    "else:\n",
    "    print(-1)\n",
    "print(left_coefficient, right_int)\n",
    "print(split_expr)\n"
   ]
  },
  {
   "cell_type": "code",
   "execution_count": 24,
   "metadata": {},
   "outputs": [
    {
     "output_type": "execute_result",
     "data": {
      "text/plain": "[&#39;X&#39;, &#39;7&#39;, &#39;8&#39;, &#39;-100&#39;]"
     },
     "metadata": {},
     "execution_count": 24
    }
   ],
   "source": [
    "split_expr"
   ]
  },
  {
   "cell_type": "code",
   "execution_count": 38,
   "metadata": {},
   "outputs": [
    {
     "output_type": "execute_result",
     "data": {
      "text/plain": "[1, 0, 0, 0]"
     },
     "metadata": {},
     "execution_count": 38
    }
   ],
   "source": [
    "list(map(get_coefficient, split_expr))"
   ]
  },
  {
   "cell_type": "code",
   "execution_count": 35,
   "metadata": {},
   "outputs": [
    {
     "output_type": "execute_result",
     "data": {
      "text/plain": "False"
     },
     "metadata": {},
     "execution_count": 35
    }
   ],
   "source": [
    "()"
   ]
  },
  {
   "cell_type": "code",
   "execution_count": 23,
   "metadata": {},
   "outputs": [
    {
     "output_type": "execute_result",
     "data": {
      "text/plain": "34"
     },
     "metadata": {},
     "execution_count": 23
    }
   ],
   "source": [
    "get_coefficient('34 * X')"
   ]
  },
  {
   "cell_type": "code",
   "execution_count": 41,
   "metadata": {},
   "outputs": [
    {
     "output_type": "execute_result",
     "data": {
      "text/plain": "9371648"
     },
     "metadata": {},
     "execution_count": 41
    }
   ],
   "source": [
    "64*64*16*(9*8+8*8+7)"
   ]
  },
  {
   "cell_type": "code",
   "execution_count": null,
   "metadata": {},
   "outputs": [],
   "source": []
  }
 ]
}